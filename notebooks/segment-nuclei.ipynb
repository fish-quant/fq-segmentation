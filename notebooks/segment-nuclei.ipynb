{
 "cells": [
  {
   "cell_type": "markdown",
   "metadata": {},
   "source": [
    "# Notebook to perform segmentation of either cells or nuclei with cellpose.\n",
    "* Requires that `cellpose` and the code of this respository are installed. One way to do this is with a pip install (recommended in a dedicated conda environment as explained in the documentation).\n",
    "   ```\n",
    "   pip install git+https://github.com/fish-quant/fq-segmentation/ --upgrade\n",
    "   ```"
   ]
  },
  {
   "cell_type": "code",
   "execution_count": null,
   "metadata": {},
   "outputs": [],
   "source": [
    "# Imports \n",
    "import segwrap  \n",
    "from segwrap import utils_cellpose\n",
    "from pathlib import Path\n",
    "\n",
    "# Print version and location of package\n",
    "print(f' * segwrap version: {segwrap.__version__}')\n",
    "print(f' * utils_cellpose location: {utils_cellpose.__file__}')"
   ]
  },
  {
   "cell_type": "code",
   "execution_count": null,
   "metadata": {},
   "outputs": [],
   "source": [
    "# >> Function call\n",
    "\n",
    "# Parameters\n",
    "path_scan = Path(r'paste-path-to-data')            # For example data: example_data\\analysis\\segmentation-input\n",
    "input_subfolder = 'segmentation-input'                             # Name of subfolder containing the images to be segmented\n",
    "path_save = 'segmentation-input>>segmentation-results'    # For example data: example_data\\analysis\\segmentation-results\n",
    "obj_name='nuclei',                                 # Name of object that should be segmented\n",
    "str_channel = 'dapi'                                # Identifier of channel for nuclear segmentation\n",
    "img_ext = '.png'                                   # Extension of images to be segmented\n",
    "diameter = 50                                      # Typical size (diameter) of nuclei\n",
    "model_type = 'nuclei'                              # Can be 'nuclei' or 'cyto', for densely packed nuclei 'cyto' might work well. \n",
    "net_avg=False                                      #  runs the 4 built-in networks and averages them if True, runs one network if False\n",
    "resample=False                                     #  run dynamics at original image size (will be (much) slower but create more accurate boundaries)\n",
    "\n",
    "# Call segmentation function\n",
    "utils_cellpose.segment_obj_indiv(\n",
    "                        path_scan=path_scan, \n",
    "                        obj_name=obj_name, \n",
    "                        str_channel=str_channel, \n",
    "                        img_ext=img_ext,  \n",
    "                        model_type=model_type, \n",
    "                        diameter = diameter, \n",
    "                        net_avg=net_avg, \n",
    "                        resample=resample, \n",
    "                        path_save=path_save\n",
    "                        input_subfolder=input_subfolder)\n",
    "\n",
    "\n"
   ]
  }
 ],
 "metadata": {
  "kernelspec": {
   "display_name": "Python 3.7.6 64-bit ('cellpose': conda)",
   "language": "python",
   "name": "python37664bitcellposecondafe33b8fac7d34fcb85d1f0e07041e8c2"
  },
  "language_info": {
   "codemirror_mode": {
    "name": "ipython",
    "version": 3
   },
   "file_extension": ".py",
   "mimetype": "text/x-python",
   "name": "python",
   "nbconvert_exporter": "python",
   "pygments_lexer": "ipython3",
   "version": "3.7.6"
  }
 },
 "nbformat": 4,
 "nbformat_minor": 4
}