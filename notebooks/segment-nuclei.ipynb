{
 "cells": [
  {
   "cell_type": "markdown",
   "metadata": {},
   "source": [
    "# Notebook to perform segmentation of either cells or nuclei with cellpose.\n",
    "* Requires that `cellpose` and the code of this respository are installed. One way to do this is with a pip install (recommended in a dedicated conda environment as explained in the documentation).\n",
    "   ```\n",
    "   pip install git+https://github.com/muellerflorian/segmentation/ --upgrade\n",
    "   ```"
   ]
  },
  {
   "cell_type": "code",
   "execution_count": null,
   "metadata": {},
   "outputs": [],
   "source": [
    "# Imports \n",
    "import pathlib\n",
    "from pathlib import Path\n",
    "\n",
    "from segwrap import  utils_cellpose  # Either on sys path or pip installed"
   ]
  },
  {
   "cell_type": "code",
   "execution_count": null,
   "metadata": {},
   "outputs": [],
   "source": [
    "# >> Function call\n",
    "\n",
    "# Parameters\n",
    "path_scan = Path(r'paste-path-to-data')            # For example data: example_data\\analysis\\segmentation-input\n",
    "path_save = Path(r'paste-path-to-save-results')    # For example data: example_data\\analysis\\segmentation-results\n",
    "str_nuclei = 'dapi'                                # Identifier of channel for nuclear segmentation\n",
    "img_ext = '.png'                                   # Extension of images to be segmented\n",
    "new_size = (512, 512)                              # Size of images (when resize should be applied, empty tuple otherwise)\n",
    "\n",
    "size_nuclei = 50                                   # Typical size (diameter) of nuclei\n",
    "model_nuclei = 'nuclei'                            # Can be 'nuclei' or 'cyto', for densely packed nuclei 'cyto' might work well. \n",
    "\n",
    "# Call segmentation function\n",
    "utils_cellpose.segment_obj_indiv(\n",
    "                                path_scan=path_scan, \n",
    "                                obj_name='nuclei',\n",
    "                                str_channel=str_nuclei, \n",
    "                                img_ext=img_ext, \n",
    "                                new_size=new_size,\n",
    "                                obj_size= size_nuclei, \n",
    "                                model_type=model_nuclei,\n",
    "                                path_save=path_save)\n"
   ]
  }
 ],
 "metadata": {
  "kernelspec": {
   "display_name": "Python 3.7.6 64-bit ('cellpose': conda)",
   "language": "python",
   "name": "python37664bitcellposecondafe33b8fac7d34fcb85d1f0e07041e8c2"
  },
  "language_info": {
   "codemirror_mode": {
    "name": "ipython",
    "version": 3
   },
   "file_extension": ".py",
   "mimetype": "text/x-python",
   "name": "python",
   "nbconvert_exporter": "python",
   "pygments_lexer": "ipython3",
   "version": "3.7.6"
  }
 },
 "nbformat": 4,
 "nbformat_minor": 4
}
