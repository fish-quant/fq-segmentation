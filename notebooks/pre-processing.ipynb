{
 "cells": [
  {
   "cell_type": "markdown",
   "metadata": {},
   "source": [
    "# Notebook to perform preprocessing of images for segmentation\n",
    "* Takes 3D images and performs a 2D projection to obtain 2D png that can be used in the segmentation algorithm.\n",
    "* Requires that `cellpose` and the code of this respository are installed. One way to do this is with a pip install (recommended in a dedicated conda environment as explained in the documentation).\n",
    "   ```\n",
    "   pip install git+https://github.com/muellerflorian/segmentation/ --upgrade\n",
    "   ```"
   ]
  },
  {
   "cell_type": "code",
   "execution_count": null,
   "metadata": {},
   "outputs": [],
   "source": [
    "# >>> Imports \n",
    "from pathlib import Path\n",
    "from segwrap import utils_segmentation  # Either on sys path or pip installed"
   ]
  },
  {
   "cell_type": "code",
   "execution_count": null,
   "metadata": {},
   "outputs": [],
   "source": [
    "# >>> Function call\n",
    "\n",
    "# Parameters\n",
    "path_process = Path(r'paste-path-to-data')       # For example data: \\example_data\\acquisition\n",
    "path_save = 'acquisition>>analysis')             # For example data: example_data\\analysis\\segmentation-input\n",
    "subbfolder = 'segmentation-input'\n",
    "channel_ident = 'dapi'                           # Identifier of channel that should be pre-processed \n",
    "projection_type = 'max'                          # Projection type (mean, max, indiv)\n",
    "\n",
    "# Call pre-processing function\n",
    "utils_segmentation.folder_prepare_prediction(\n",
    "                    path_process=path_process,\n",
    "                    search_type=None,\n",
    "                    channel_ident=channel_ident,\n",
    "                    projection_type=projection_type,\n",
    "                    subfolder = subbfolder,\n",
    "                    path_save=path_save,\n",
    "                    callback_log=None)"
   ]
  }
 ],
 "metadata": {
  "kernelspec": {
   "display_name": "Python 3.7.6 64-bit ('cellpose': conda)",
   "language": "python",
   "name": "python37664bitcellposecondafe33b8fac7d34fcb85d1f0e07041e8c2"
  },
  "language_info": {
   "codemirror_mode": {
    "name": "ipython",
    "version": 3
   },
   "file_extension": ".py",
   "mimetype": "text/x-python",
   "name": "python",
   "nbconvert_exporter": "python",
   "pygments_lexer": "ipython3",
   "version": "3.7.6"
  }
 },
 "nbformat": 4,
 "nbformat_minor": 4
}