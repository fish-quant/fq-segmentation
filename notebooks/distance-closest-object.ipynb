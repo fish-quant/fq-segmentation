{
 "cells": [
  {
   "cell_type": "markdown",
   "metadata": {},
   "source": [
    "# Notebook to perform segmentation of either cells or nuclei with cellpose.\n",
    "* Requires that `cellpose` and the code of this respository are installed. One way to do this is with a pip install (recommended in a dedicated conda environment as explained in the documentation).\n",
    "   ```\n",
    "   pip install git+https://github.com/muellerflorian/segmentation/ --upgrade\n",
    "   ```"
   ]
  },
  {
   "cell_type": "code",
   "execution_count": null,
   "metadata": {},
   "outputs": [],
   "source": [
    "# Imports \n",
    "import pathlib\n",
    "from pathlib import Path\n",
    "\n",
    "from segwrap import  utils_masks  # Either on sys path or pip installed"
   ]
  },
  {
   "cell_type": "code",
   "execution_count": null,
   "metadata": {},
   "outputs": [],
   "source": [
    "# >> Function call\n",
    "\n",
    "# Parameters\n",
    "path_scan = Path(r'paste-path-to-data')            # For example data: example_data\\analysis\\segmentation-input\n",
    "\n",
    "str_label = 'mask__nuclei__'\n",
    "strs_save = ('nuclei_close_ind__', 'nuclei_close_dist__')\n",
    "truncate_distance = 255 # Distance above which distances will be truncated. \n",
    "path_save = None\n",
    "\n",
    "# Changes for debugging\n",
    "path_scan = Path(r'D:\\Documents\\Data\\test-data\\cell-pose\\jupyter-tests\\example_data\\analysis\\segmentation-results')\n",
    "path_save = Path(r'D:\\Documents\\Data\\test-data\\cell-pose\\jupyter-tests\\example_data\\analysis\\segmentation-nuclei-closest')\n",
    "\n",
    "# Call processing function\n",
    "importlib.reload(utils_masks)\n",
    "utils_masks.create_img_closest_obj(path_scan=path_scan,\n",
    "                                   str_label=str_label,\n",
    "                                   strs_save=strs_save,\n",
    "                                   path_save = path_save,\n",
    "                                   truncate_distance=255)\n"
   ]
  }
 ],
 "metadata": {
  "kernelspec": {
   "display_name": "Python 3.7.6 64-bit ('cellpose': conda)",
   "language": "python",
   "name": "python37664bitcellposecondafe33b8fac7d34fcb85d1f0e07041e8c2"
  },
  "language_info": {
   "codemirror_mode": {
    "name": "ipython",
    "version": 3
   },
   "file_extension": ".py",
   "mimetype": "text/x-python",
   "name": "python",
   "nbconvert_exporter": "python",
   "pygments_lexer": "ipython3",
   "version": "3.7.6"
  }
 },
 "nbformat": 4,
 "nbformat_minor": 4
}